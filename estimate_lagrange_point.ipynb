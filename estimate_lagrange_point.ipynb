{
 "cells": [
  {
   "cell_type": "code",
   "execution_count": 70,
   "id": "ae5bb971-f2f5-4f28-a7d1-74b2254cedc6",
   "metadata": {},
   "outputs": [],
   "source": [
    "import matplotlib.pyplot as plt\n",
    "import matplotlib.font_manager as fm\n",
    "\n",
    "font_path = '/Users/anaik/Downloads/helvetica-neue-5/HelveticaNeueLight.otf' # Example for macOS\n",
    "prop = fm.FontProperties(fname=font_path)\n",
    "plt.rcParams['font.family'] = prop.get_name()\n",
    "plt.rcParams['axes.spines.top'] = False\n",
    "plt.rcParams['axes.spines.right'] = False"
   ]
  },
  {
   "cell_type": "markdown",
   "id": "a93986a6",
   "metadata": {},
   "source": [
    "## Estimating the Lagrange points between the Earth and the Sun"
   ]
  },
  {
   "cell_type": "code",
   "execution_count": 31,
   "id": "25d8d5f5",
   "metadata": {},
   "outputs": [
    {
     "name": "stdout",
     "output_type": "stream",
     "text": [
      "Iteration 0: start=10000.0, end=76000000000.0, delta=100000000.0\n",
      "Iteration 1: start=1500010000.0, end=1600010000.0, delta=50000000.0\n",
      "Iteration 2: start=1500010000.0, end=1550010000.0, delta=25000000.0\n",
      "Iteration 3: start=1500010000.0, end=1525010000.0, delta=12500000.0\n",
      "Iteration 4: start=1512510000.0, end=1525010000.0, delta=6250000.0\n",
      "Iteration 5: start=1512510000.0, end=1518760000.0, delta=3125000.0\n",
      "Iteration 6: start=1512510000.0, end=1515635000.0, delta=1562500.0\n",
      "Iteration 7: start=1514072500.0, end=1515635000.0, delta=781250.0\n",
      "Iteration 8: start=1514853750.0, end=1515635000.0, delta=390625.0\n",
      "Iteration 9: start=1515244375.0, end=1515635000.0, delta=195312.5\n",
      "Iteration 10: start=1515244375.0, end=1515439687.5, delta=97656.25\n",
      "Iteration 11: start=1515342031.25, end=1515439687.5, delta=48828.125\n",
      "Iteration 12: start=1515342031.25, end=1515390859.375, delta=24414.0625\n",
      "Iteration 13: start=1515342031.25, end=1515366445.3125, delta=12207.03125\n",
      "Iteration 14: start=1515354238.28125, end=1515366445.3125, delta=6103.515625\n",
      "Iteration 15: start=1515354238.28125, end=1515360341.796875, delta=3051.7578125\n",
      "Iteration 16: start=1515354238.28125, end=1515357290.0390625, delta=1525.87890625\n",
      "Iteration 17: start=1515354238.28125, end=1515355764.1601562, delta=762.939453125\n",
      "Iteration 18: start=1515354238.28125, end=1515355001.2207031, delta=381.4697265625\n",
      "Iteration 19: start=1515354619.7509766, end=1515355001.2207031, delta=190.73486328125\n",
      "\n",
      "Numerical estimates show that L1 is between 1515354810.49m and 1515354905.85m from Earth.\n"
     ]
    }
   ],
   "source": [
    "import math\n",
    "\n",
    "G  = 6.67e-11                     # the Gravitational constant (m^3/(kg s^2))\n",
    "m1 = 1.989e30                     # mass of Sun (kg)\n",
    "m2 = 5.9722e24                    # mass of Earth (kg)\n",
    "R  = 1.52e11                      # average distance between Sun and Earth (m)\n",
    "\n",
    "w_m2 = math.sqrt(G * m1 / R**3)   # angular velocity of Earth around Sun (rad/s)\n",
    "\n",
    "F1_by_m = lambda l1: G * m1 / (R-l1)**2      # gravitational force per unit mass due to Sun (m/s^2)\n",
    "F2_by_m = lambda l1: G * m2 / (l1)**2        # gravitational force per unit mass due to Earth (m/s^2)\n",
    "F_cent_by_m = lambda l1: w_m2**2 * (R - l1)  # centrifugal force per unit mass when orbiting around Sun with Earth's angular velocity (m/s^2)\n",
    "\n",
    "l1 = 1e4                # lower bound of the guess, starting at some small value close to Earth (m)\n",
    "delta = 1e8             # how much to increment each guess (m)\n",
    "upper_bound = R/2       # upper bound of the guess, starting at a large value far from Earth (m)\n",
    "\n",
    "num_increments = 0\n",
    "for i in range(20):\n",
    "    print(f'Iteration {i}: start={l1}, end={upper_bound}, delta={delta}')\n",
    "    while l1 < upper_bound:\n",
    "        if F2_by_m(l1) + F_cent_by_m(l1) < F1_by_m(l1):\n",
    "            break\n",
    "        else:\n",
    "            l1 += delta\n",
    "    upper_bound = l1\n",
    "    l1 -= delta\n",
    "    delta /= 2\n",
    "print(f'\\nNumerical estimates show that L1 is between {l1:.2f}m and {l1 + delta:.2f}m from Earth.')"
   ]
  },
  {
   "cell_type": "markdown",
   "id": "42865bed",
   "metadata": {},
   "source": [
    "## Plotting the forces to get a better intuition of the L1 point"
   ]
  },
  {
   "cell_type": "code",
   "execution_count": 6,
   "id": "0b2ed1f7",
   "metadata": {},
   "outputs": [
    {
     "name": "stderr",
     "output_type": "stream",
     "text": [
      "/var/folders/09/klqnntcn1276dvjnp9322j840000gn/T/ipykernel_24715/822500593.py:24: UserWarning: FixedFormatter should only be used together with FixedLocator\n",
      "  ax.set_xticklabels(np.array(distance_from_earth[::len(distance_from_earth)//6]) / 10**8)  # ToDo: fix this\n"
     ]
    },
    {
     "data": {
      "image/png": "[encoded data removed]",
      "text/plain": [
       "<Figure size 432x288 with 1 Axes>"
      ]
     },
     "metadata": {
      "needs_background": "light"
     },
     "output_type": "display_data"
    }
   ],
   "source": [
    "import numpy as np\n",
    "import matplotlib.pyplot as plt\n",
    "\n",
    "distance_from_earth = list(range(100_000_000, 3000_000_000, 50_000_000))\n",
    "\n",
    "f1_by_m_values = [G * m1 / (R-distance)**2 for distance in distance_from_earth]\n",
    "f2_by_m_values = [G * m2 / (distance)**2 for distance in distance_from_earth]\n",
    "f_cent_by_m = [w_m2**2 * (R-distance) for distance in distance_from_earth]\n",
    "\n",
    "# plt.plot(f1_by_m_values, label='Gravitational force due to the Sun')\n",
    "# plt.plot(f2_by_m_values, label='Gravitational force due to the Earth', alpha=0.3, marker='-')\n",
    "# plt.plot(f_cent_by_m, label='Centripetal force', alpha=0.3, marker='-')\n",
    "\n",
    "fig, ax = plt.subplots(1, 1)\n",
    "plt.plot(f1_by_m_values, label=r'$F_s$')\n",
    "# plt.plot(np.array(f2_by_m_values) + np.array(f_cent_by_m), label=r'$F_e + F_{cent}$')\n",
    "plt.plot(f2_by_m_values, label=r'$F_{e}$', alpha=0.3, linestyle='--')\n",
    "# plt.plot(f_cent_by_m, label=r'$F_{cent}$', alpha=0.3, linestyle='--')\n",
    "\n",
    "plt.legend()\n",
    "plt.xlabel(r'Distance from Earth ($\\times 10^8$m)')\n",
    "# plt.xlabel(r'Distance from Earth (m)')\n",
    "plt.ylabel('Force experienced\\nby the satellite\\nper unit mass\\n(N/kg)', rotation=0, labelpad=50)\n",
    "ax.set_xticklabels(np.array(distance_from_earth[::len(distance_from_earth)//6]) / 10**8)  # ToDo: fix this\n",
    "plt.show()"
   ]
  },
  {
   "cell_type": "code",
   "execution_count": 32,
   "id": "2ae6ce54",
   "metadata": {},
   "outputs": [
    {
     "data": {
      "text/plain": [
       "1500000000"
      ]
     },
     "execution_count": 32,
     "metadata": {},
     "output_type": "execute_result"
    }
   ],
   "source": [
    "distance_from_earth[20]"
   ]
  },
  {
   "cell_type": "markdown",
   "id": "0e97cf42",
   "metadata": {},
   "source": [
    "## L2"
   ]
  },
  {
   "cell_type": "code",
   "execution_count": 48,
   "id": "dd119231",
   "metadata": {},
   "outputs": [
    {
     "name": "stdout",
     "output_type": "stream",
     "text": [
      "Iteration 0: start=10000.0, end=76000000000.0, delta=100000000.0\n",
      "Iteration 1: start=1500010000.0, end=1600010000.0, delta=50000000.0\n",
      "Iteration 2: start=1500010000.0, end=1550010000.0, delta=25000000.0\n",
      "Iteration 3: start=1525010000.0, end=1550010000.0, delta=12500000.0\n",
      "Iteration 4: start=1525010000.0, end=1537510000.0, delta=6250000.0\n",
      "Iteration 5: start=1525010000.0, end=1531260000.0, delta=3125000.0\n",
      "Iteration 6: start=1525010000.0, end=1528135000.0, delta=1562500.0\n",
      "Iteration 7: start=1525010000.0, end=1526572500.0, delta=781250.0\n",
      "Iteration 8: start=1525010000.0, end=1525791250.0, delta=390625.0\n",
      "Iteration 9: start=1525400625.0, end=1525791250.0, delta=195312.5\n",
      "Iteration 10: start=1525400625.0, end=1525595937.5, delta=97656.25\n",
      "Iteration 11: start=1525400625.0, end=1525498281.25, delta=48828.125\n",
      "Iteration 12: start=1525449453.125, end=1525498281.25, delta=24414.0625\n",
      "Iteration 13: start=1525473867.1875, end=1525498281.25, delta=12207.03125\n",
      "Iteration 14: start=1525486074.21875, end=1525498281.25, delta=6103.515625\n",
      "Iteration 15: start=1525492177.734375, end=1525498281.25, delta=3051.7578125\n",
      "Iteration 16: start=1525492177.734375, end=1525495229.4921875, delta=1525.87890625\n",
      "Iteration 17: start=1525493703.6132812, end=1525495229.4921875, delta=762.939453125\n",
      "Iteration 18: start=1525493703.6132812, end=1525494466.5527344, delta=381.4697265625\n",
      "Iteration 19: start=1525493703.6132812, end=1525494085.0830078, delta=190.73486328125\n",
      "\n",
      "Numerical estimates show that L2 is between 1525493894.3481445 and 1525493989.7155762m from the Earth.\n"
     ]
    }
   ],
   "source": [
    "l2 = 1e4\n",
    "\n",
    "F1_by_m = lambda l2: G * m1 / (R+l2)**2\n",
    "F2_by_m = lambda l2: G * m2 / (l2)**2\n",
    "F_cent_by_m = lambda l2: w_m2**2 * (R + l2)\n",
    "\n",
    "delta = 1e8\n",
    "upper_bound = R/2\n",
    "num_increments = 0\n",
    "\n",
    "for i in range(20):\n",
    "    print(f'Iteration {i}: start={l2}, end={upper_bound}, delta={delta}')\n",
    "    while l2 < upper_bound:\n",
    "        if F1_by_m(l2) + F2_by_m(l2) < F_cent_by_m(l2):\n",
    "#             print(f'Iteration {i}: {num_increments}')\n",
    "            num_increments = 0\n",
    "            break\n",
    "        else:\n",
    "            l2 += delta\n",
    "            num_increments += 1\n",
    "    upper_bound = l2\n",
    "    l2 -= delta\n",
    "    delta /= 2\n",
    "print(f'\\nNumerical estimates show that L2 is between {l2} and {l2 + delta}m from the Earth.')"
   ]
  },
  {
   "cell_type": "markdown",
   "id": "f4844c34",
   "metadata": {},
   "source": [
    "So L1 ~= L2."
   ]
  },
  {
   "cell_type": "code",
   "execution_count": 51,
   "id": "2ebaa6fe",
   "metadata": {},
   "outputs": [
    {
     "name": "stderr",
     "output_type": "stream",
     "text": [
      "/var/folders/09/klqnntcn1276dvjnp9322j840000gn/T/ipykernel_53654/1249625450.py:21: UserWarning: FixedFormatter should only be used together with FixedLocator\n",
      "  ax.set_xticklabels(np.array(distance_from_earth[::len(distance_from_earth)//6]) / 10**8)  # ToDo: fix this\n"
     ]
    },
    {
     "data": {
      "image/png": "[encoded data removed]",
      "text/plain": [
       "<Figure size 432x288 with 1 Axes>"
      ]
     },
     "metadata": {
      "needs_background": "light"
     },
     "output_type": "display_data"
    }
   ],
   "source": [
    "distance_from_earth = list(range(500_000_000, 3000_000_000, 50_000_000))\n",
    "\n",
    "f1_by_m_values = [G * m1 / (R+distance)**2 for distance in distance_from_earth]\n",
    "f2_by_m_values = [G * m2 / (distance)**2 for distance in distance_from_earth]\n",
    "f_cent_by_m = [w_m2**2 * (R+distance) for distance in distance_from_earth]\n",
    "\n",
    "# plt.plot(f1_by_m_values, label='Gravitational force due to the Sun')\n",
    "# plt.plot(f2_by_m_values, label='Gravitational force due to the Earth', alpha=0.3, marker='-')\n",
    "# plt.plot(f_cent_by_m, label='Centripetal force', alpha=0.3, marker='-')\n",
    "\n",
    "fig, ax = plt.subplots(1, 1)\n",
    "plt.plot(f_cent_by_m, label=r'$F_{cent}$')\n",
    "plt.plot(np.array(f1_by_m_values) + np.array(f2_by_m_values), label=r'$F_e + F_{s}$')\n",
    "# plt.plot(f1_by_m_values, label=r'$F_{s}$', alpha=0.3, linestyle='--')\n",
    "# plt.plot(f2_by_m_values, label=r'$F_{e}$', alpha=0.3, linestyle='--')\n",
    "\n",
    "plt.legend()\n",
    "plt.xlabel(r'Distance from Earth ($\\times 10^8$m)')\n",
    "# plt.xlabel(r'Distance from Earth (m)')\n",
    "plt.ylabel('Force experienced\\nby the satellite\\nper unit mass\\n(N/kg)', rotation=0, labelpad=50)\n",
    "ax.set_xticklabels(np.array(distance_from_earth[::len(distance_from_earth)//6]) / 10**8)  # ToDo: fix this\n",
    "plt.show()"
   ]
  },
  {
   "cell_type": "markdown",
   "id": "b9046d5f",
   "metadata": {
    "jp-MarkdownHeadingCollapsed": true
   },
   "source": [
    "## L3"
   ]
  },
  {
   "cell_type": "code",
   "execution_count": 54,
   "id": "98256b19",
   "metadata": {},
   "outputs": [
    {
     "name": "stdout",
     "output_type": "stream",
     "text": [
      "Iteration 0: start=76000000000.0, end=228000000000.0, delta=10000000.0\n",
      "Iteration 1: start=152000000000.0, end=152010000000.0, delta=5000000.0\n",
      "Iteration 2: start=152000000000.0, end=152005000000.0, delta=2500000.0\n",
      "Iteration 3: start=152000000000.0, end=152002500000.0, delta=1250000.0\n",
      "Iteration 4: start=152000000000.0, end=152001250000.0, delta=625000.0\n",
      "Iteration 5: start=152000000000.0, end=152000625000.0, delta=312500.0\n",
      "Iteration 6: start=152000000000.0, end=152000312500.0, delta=156250.0\n",
      "Iteration 7: start=152000000000.0, end=152000156250.0, delta=78125.0\n",
      "Iteration 8: start=152000000000.0, end=152000078125.0, delta=39062.5\n",
      "Iteration 9: start=152000000000.0, end=152000039062.5, delta=19531.25\n",
      "Iteration 10: start=152000019531.25, end=152000039062.5, delta=9765.625\n",
      "Iteration 11: start=152000029296.875, end=152000039062.5, delta=4882.8125\n",
      "Iteration 12: start=152000034179.6875, end=152000039062.5, delta=2441.40625\n",
      "Iteration 13: start=152000036621.09375, end=152000039062.5, delta=1220.703125\n",
      "Iteration 14: start=152000037841.79688, end=152000039062.5, delta=610.3515625\n",
      "Iteration 15: start=152000037841.79688, end=152000038452.14844, delta=305.17578125\n",
      "Iteration 16: start=152000037841.79688, end=152000038146.97266, delta=152.587890625\n",
      "Iteration 17: start=152000037994.38477, end=152000038146.97266, delta=76.2939453125\n",
      "Iteration 18: start=152000037994.38477, end=152000038070.6787, delta=38.14697265625\n",
      "Iteration 19: start=152000038032.53174, end=152000038070.6787, delta=19.073486328125\n",
      "\n",
      "Numerical estimates show that L3 is between 152000038032.53174 and 152000038042.06848m from the Sun.\n",
      "For reference, the Earth is 152000000000.0m away from the Sun.\n"
     ]
    }
   ],
   "source": [
    "d = R/2\n",
    "\n",
    "F1_by_m = lambda d: G * m1 / (d)**2\n",
    "F2_by_m = lambda d: G * m2 / (R+d)**2\n",
    "F_cent_by_m = lambda r: w_m2**2 * (d)\n",
    "\n",
    "delta = 1e7\n",
    "upper_bound = 3*R/2\n",
    "num_increments = 0\n",
    "\n",
    "for i in range(20):\n",
    "    print(f'Iteration {i}: start={d}, end={upper_bound}, delta={delta}')\n",
    "    while d < upper_bound:\n",
    "        if F1_by_m(d) + F2_by_m(d) < F_cent_by_m(d):\n",
    "#             print(f'Iteration {i}: {num_increments}')\n",
    "            num_increments = 0\n",
    "            break\n",
    "        else:\n",
    "            d += delta\n",
    "            num_increments += 1\n",
    "    upper_bound = d\n",
    "    d -= delta\n",
    "    delta /= 2\n",
    "print(f'\\nNumerical estimates show that L3 is between {d} and {d + delta}m from the Sun.')\n",
    "print(f'For reference, the Earth is {R}m away from the Sun.')"
   ]
  },
  {
   "cell_type": "code",
   "execution_count": 76,
   "id": "c81736f7",
   "metadata": {},
   "outputs": [
    {
     "name": "stderr",
     "output_type": "stream",
     "text": [
      "/var/folders/09/klqnntcn1276dvjnp9322j840000gn/T/ipykernel_53654/1131407220.py:21: UserWarning: FixedFormatter should only be used together with FixedLocator\n",
      "  ax.set_xticklabels(np.array(distance_from_sun[::len(distance_from_sun)//6]) / 10**8)  # ToDo: fix this\n"
     ]
    },
    {
     "data": {
      "image/png": "[encoded data removed]",
      "text/plain": [
       "<Figure size 432x288 with 1 Axes>"
      ]
     },
     "metadata": {
      "needs_background": "light"
     },
     "output_type": "display_data"
    }
   ],
   "source": [
    "distance_from_sun = list(range(100_000_000_000, 202_000_000_000, 1_000_000_000))\n",
    "\n",
    "f1_by_m_values = [G * m1 / (r)**2 for r in distance_from_sun]\n",
    "f2_by_m_values = [G * m2 / (R+r)**2 for r in distance_from_sun]\n",
    "f_cent_by_m = [w_m2**2 * (r) for r in distance_from_sun]\n",
    "\n",
    "# plt.plot(f1_by_m_values, label='Gravitational force due to the Sun')\n",
    "# plt.plot(f2_by_m_values, label='Gravitational force due to the Earth', alpha=0.3, marker='-')\n",
    "# plt.plot(f_cent_by_m, label='Centripetal force', alpha=0.3, marker='-')\n",
    "\n",
    "fig, ax = plt.subplots(1, 1)\n",
    "plt.plot(f_cent_by_m, label=r'$F_{cent}$')\n",
    "plt.plot(np.array(f1_by_m_values) + np.array(f2_by_m_values), label=r'$F_e + F_{s}$')\n",
    "# plt.plot(f1_by_m_values, label=r'$F_{s}$', alpha=0.3, linestyle='--')\n",
    "# plt.plot(f2_by_m_values, label=r'$F_{e}$', alpha=0.3, linestyle='--')\n",
    "\n",
    "plt.legend()\n",
    "plt.xlabel(r'Distance from Sun ($\\times 10^8$m)')\n",
    "# plt.xlabel(r'Distance from Earth (m)')\n",
    "plt.ylabel('Force experienced\\nby the satellite\\nper unit mass\\n(N/kg)', rotation=0, labelpad=50)\n",
    "ax.set_xticklabels(np.array(distance_from_sun[::len(distance_from_sun)//6]) / 10**8)  # ToDo: fix this\n",
    "plt.show()"
   ]
  },
  {
   "cell_type": "code",
   "execution_count": 74,
   "id": "6da0c7fd",
   "metadata": {},
   "outputs": [
    {
     "data": {
      "text/plain": [
       "[100000000000,\n",
       " 117000000000,\n",
       " 134000000000,\n",
       " 151000000000,\n",
       " 168000000000,\n",
       " 185000000000]"
      ]
     },
     "execution_count": 74,
     "metadata": {},
     "output_type": "execute_result"
    }
   ],
   "source": [
    "distance_from_sun[::17]"
   ]
  },
  {
   "cell_type": "code",
   "execution_count": 75,
   "id": "b840db09",
   "metadata": {},
   "outputs": [
    {
     "data": {
      "text/plain": [
       "201000000000"
      ]
     },
     "execution_count": 75,
     "metadata": {},
     "output_type": "execute_result"
    }
   ],
   "source": [
    "distance_from_sun[-1]"
   ]
  },
  {
   "cell_type": "code",
   "execution_count": 77,
   "id": "b762a8be",
   "metadata": {},
   "outputs": [
    {
     "data": {
      "text/plain": [
       "array([1000., 1170., 1340., 1510., 1680., 1850.])"
      ]
     },
     "execution_count": 77,
     "metadata": {},
     "output_type": "execute_result"
    }
   ],
   "source": [
    "np.array(distance_from_sun[::len(distance_from_sun)//6]) / 10**8"
   ]
  },
  {
   "cell_type": "markdown",
   "id": "96a7bea4",
   "metadata": {},
   "source": [
    "## Plotting all the forces"
   ]
  },
  {
   "cell_type": "code",
   "execution_count": 85,
   "id": "36202aca",
   "metadata": {},
   "outputs": [
    {
     "name": "stderr",
     "output_type": "stream",
     "text": [
      "/var/folders/09/klqnntcn1276dvjnp9322j840000gn/T/ipykernel_13177/1853092120.py:55: UserWarning: set_ticklabels() should only be used with a fixed number of ticks, i.e. after set_ticks() or using a FixedLocator.\n",
      "  ax.set_xticklabels(labels)\n"
     ]
    },
    {
     "data": {
      "image/png": "[encoded data removed]",
      "text/plain": [
       "<Figure size 1200x800 with 1 Axes>"
      ]
     },
     "metadata": {},
     "output_type": "display_data"
    }
   ],
   "source": [
    "import math\n",
    "import numpy as np\n",
    "import matplotlib.pyplot as plt\n",
    "plt.rcParams.update({'font.size': 14}) # Sets a global font size of 14\n",
    "\n",
    "G = 6.67e-11\n",
    "m1 = 1.989e30\n",
    "m2 = 5.9722e24\n",
    "R = 1.52e11\n",
    "\n",
    "v_m2 = math.sqrt(G * m1 / R)\n",
    "w_m2 = v_m2 / R\n",
    "\n",
    "def sign(num):\n",
    "    if num > 0:\n",
    "        return 1\n",
    "    elif num < 0:\n",
    "        return -1\n",
    "    else:\n",
    "        raise Exception(\"0 is not allowed\")\n",
    "\n",
    "\n",
    "distance_from_earth = list(range(-3000_000_000, 3000_000_000, 80_000_000))\n",
    "\n",
    "f1_by_m_values = [G * m1 / (R+distance)**2 for distance in distance_from_earth]\n",
    "f2_by_m_values = [G * m2 / (distance)**2 * sign(distance) for distance in distance_from_earth]\n",
    "f_cent_by_m = [f1_by_m_values[i] + f2_by_m_values[i] for i,_ in enumerate(distance_from_earth)]\n",
    "\n",
    "# plt.plot(f1_by_m_values, label='Gravitational force due to the Sun')\n",
    "# plt.plot(f2_by_m_values, label='Gravitational force due to the Earth', alpha=0.3, marker='-')\n",
    "# plt.plot(f_cent_by_m, label='Centripetal force', alpha=0.3, marker='-')\n",
    "\n",
    "fig, ax = plt.subplots(1, 1, figsize=(12,8))\n",
    "plt.plot(f1_by_m_values, label=r'$F_s$', alpha=0.5, linestyle='-', color='orange')\n",
    "# plt.plot(np.array(f2_by_m_values) + np.array(f_cent_by_m), label=r'$F_e + F_{cent}$')\n",
    "plt.plot(f2_by_m_values, label=r'$F_{e}$', alpha=0.3, linestyle='-', color='blue')\n",
    "plt.plot(f_cent_by_m, label=r'$F_{s} + F_{e}$', color='green')#, alpha=0.3, linestyle='--')\n",
    "# plt.axhline(0.0, alpha=0.3, linestyle='--')\n",
    "\n",
    "plt.legend()\n",
    "plt.xlabel(r'Distance from Earth ($\\times 10^8$m)')\n",
    "# plt.xlabel(r'Distance from Earth (m)')\n",
    "plt.ylabel('Force experienced\\nby a satellite\\nper unit mass\\n(N/kg)', rotation=0, labelpad=60)\n",
    "plt.ylim(-0.015, 0.015)\n",
    "\n",
    "ax.text(0.24, 0.25, \"L1 point\", transform=ax.transAxes, fontsize=14,\n",
    "        verticalalignment='top', bbox=dict(boxstyle='round', facecolor='white', alpha=0.5))\n",
    "ax.text(0.7, 0.25, \"L2 point\", transform=ax.transAxes, fontsize=14,\n",
    "        verticalalignment='top', bbox=dict(boxstyle='round', facecolor='white', alpha=0.5))\n",
    "\n",
    "fig.canvas.draw()\n",
    "labels = [item.get_text() for item in ax.get_xticklabels()]\n",
    "for i,label in enumerate(labels[1:-1]):   # the first and last label is not shown for some reason\n",
    "    labels[i+1] = str(distance_from_earth[int(label)]//1e8)\n",
    "ax.set_xticklabels(labels)\n",
    "plt.axvline(18.5, alpha=0.3, linestyle='dotted', color='black')\n",
    "plt.axvline(56.25, alpha=0.3, linestyle='dotted', color='black')\n",
    "# plt.axhline(0.0057, alpha=0.3, linestyle='--', color='black')\n",
    "\n",
    "plt.show()"
   ]
  },
  {
   "cell_type": "code",
   "execution_count": 1,
   "id": "a858ea0f",
   "metadata": {},
   "outputs": [
    {
     "ename": "NameError",
     "evalue": "name 'sign' is not defined",
     "output_type": "error",
     "traceback": [
      "\u001b[0;31m---------------------------------------------------------------------------\u001b[0m",
      "\u001b[0;31mNameError\u001b[0m                                 Traceback (most recent call last)",
      "\u001b[0;32m/var/folders/09/klqnntcn1276dvjnp9322j840000gn/T/ipykernel_89764/1441594244.py\u001b[0m in \u001b[0;36m<module>\u001b[0;34m\u001b[0m\n\u001b[0;32m----> 1\u001b[0;31m \u001b[0msign\u001b[0m\u001b[0;34m(\u001b[0m\u001b[0;34m-\u001b[0m\u001b[0;36m100\u001b[0m\u001b[0;34m)\u001b[0m\u001b[0;34m\u001b[0m\u001b[0;34m\u001b[0m\u001b[0m\n\u001b[0m",
      "\u001b[0;31mNameError\u001b[0m: name 'sign' is not defined"
     ]
    }
   ],
   "source": [
    "sign(-100)"
   ]
  },
  {
   "cell_type": "markdown",
   "id": "6ba3ef3c",
   "metadata": {},
   "source": [
    "## Visualizations"
   ]
  },
  {
   "cell_type": "code",
   "execution_count": 1,
   "id": "9f28c37d-dfb2-4c01-b8d3-fc7da296d5a0",
   "metadata": {},
   "outputs": [
    {
     "data": {
      "text/html": [
       "<div id=\"glowscript\" class=\"glowscript\"></div>"
      ],
      "text/plain": [
       "<IPython.core.display.HTML object>"
      ]
     },
     "metadata": {},
     "output_type": "display_data"
    },
    {
     "data": {
      "application/javascript": [
       "if (typeof Jupyter !== \"undefined\") { window.__context = { glowscript_container: $(\"#glowscript\").removeAttr(\"id\")};}else{ element.textContent = ' ';}"
      ],
      "text/plain": [
       "<IPython.core.display.Javascript object>"
      ]
     },
     "metadata": {},
     "output_type": "display_data"
    }
   ],
   "source": [
    "from vpython import*"
   ]
  },
  {
   "cell_type": "markdown",
   "id": "7d537cb7-7de7-4d57-82ae-3b85b49e52d4",
   "metadata": {},
   "source": [
    "### Three planets around the sun"
   ]
  },
  {
   "cell_type": "code",
   "execution_count": 8,
   "id": "a71b7d24-e23a-468e-bd80-05fcabbef9e3",
   "metadata": {},
   "outputs": [
    {
     "data": {
      "text/html": [
       "<div id=\"glowscript\" class=\"glowscript\"></div>"
      ],
      "text/plain": [
       "<IPython.core.display.HTML object>"
      ]
     },
     "metadata": {},
     "output_type": "display_data"
    },
    {
     "data": {
      "application/javascript": [
       "if (typeof Jupyter !== \"undefined\") { window.__context = { glowscript_container: $(\"#glowscript\").removeAttr(\"id\")};}else{ element.textContent = ' ';}"
      ],
      "text/plain": [
       "<IPython.core.display.Javascript object>"
      ]
     },
     "metadata": {},
     "output_type": "display_data"
    }
   ],
   "source": [
    "scene = canvas()"
   ]
  },
  {
   "cell_type": "code",
   "execution_count": 9,
   "id": "2f93fd98-e64b-4ea2-96d5-913dece2df9f",
   "metadata": {},
   "outputs": [],
   "source": [
    "G = 6.67e-11\n",
    "m_sun = 2e30\n",
    "masses = [3.285e23, 4.867e24, 1e25]\n",
    "radii = [6.8e10, 1.1e11, 1.5e11]\n",
    "colors = [color.orange, color.white, color.blue]\n",
    "\n",
    "sun = sphere(pos=vector(0,0,0), radius=radii[2]/20, color=color.yellow, make_trail=True)\n",
    "planets = [sphere(pos=vector(radii[i],0,0), radius=radii[i]/30, color=colors[i], make_trail=True) for i in range(len(masses))]\n",
    "num_planets = len(planets)\n",
    "\n",
    "v = sqrt(G * m_sun / radii[2])\n",
    "w = v / radii[2]\n",
    "for i in range(num_planets):\n",
    "    planets[i].p = masses[i] * vector(0,w * radii[i],0)\n",
    "\n",
    "t = 0\n",
    "dt = 100\n",
    "\n",
    "import time\n",
    "time.sleep(5)\n",
    "\n",
    "while t<32e6:\n",
    "    rate(15000)\n",
    "    \n",
    "    r = planets[2].pos - sun.pos\n",
    "    F = -G * m_sun * masses[2] * norm(r)/ mag(r)**2\n",
    "    \n",
    "    planets[2].p += F * dt\n",
    "    planets[0].p = planets[2].p / masses[2] * masses[0] * radii[0] / radii[2]\n",
    "    planets[1].p = planets[2].p / masses[2] * masses[1] * radii[1] / radii[2]\n",
    "\n",
    "    planets[0].pos += planets[0].p * dt / masses[0]\n",
    "    planets[1].pos += planets[1].p * dt / masses[1]\n",
    "    planets[2].pos += planets[2].p * dt / masses[2]\n",
    "    \n",
    "    t += dt"
   ]
  },
  {
   "cell_type": "code",
   "execution_count": 6,
   "id": "fa49bfbf-b618-4faa-a6c6-6b864c027a32",
   "metadata": {},
   "outputs": [],
   "source": [
    "G = 6.67e-11\n",
    "m_sun = 2e30\n",
    "masses = [3.285e23, 4.867e24, 1e25]\n",
    "radii = [6.8e10, 1.1e11, 1.5e11]\n",
    "colors = [color.orange, color.white, color.blue]\n",
    "\n",
    "sun = sphere(pos=vector(0,0,0), radius=radii[2]/20, color=color.yellow, make_trail=True)\n",
    "planets = [sphere(pos=vector(radii[i],0,0), radius=radii[i]/30, color=colors[i], make_trail=True) for i in range(len(masses))]\n",
    "num_planets = len(planets)\n",
    "\n",
    "for i in range(num_planets):\n",
    "    v = sqrt(G * m_sun / radii[i])\n",
    "    planets[i].p = masses[i] * vector(0,v,0)\n",
    "\n",
    "\n",
    "t = 0\n",
    "dt = 100\n",
    "\n",
    "while t<66e6:\n",
    "    rate(15000)\n",
    "    \n",
    "    for i in range(num_planets):\n",
    "        r = planets[i].pos - sun.pos\n",
    "        F = -G * m_sun * masses[i] * norm(r)/ mag(r)**2\n",
    "        \n",
    "        planets[i].p += F * dt\n",
    "        planets[i].pos += planets[i].p * dt / masses[i]\n",
    "    \n",
    "    t += dt"
   ]
  },
  {
   "cell_type": "markdown",
   "id": "6c983824-211e-4210-88ce-066a0a925f56",
   "metadata": {
    "jp-MarkdownHeadingCollapsed": true
   },
   "source": [
    "### L1 and L2 (actual)"
   ]
  },
  {
   "cell_type": "code",
   "execution_count": 3,
   "id": "ef4dbb6f",
   "metadata": {},
   "outputs": [
    {
     "data": {
      "text/html": [
       "<div id=\"glowscript\" class=\"glowscript\"></div>"
      ],
      "text/plain": [
       "<IPython.core.display.HTML object>"
      ]
     },
     "metadata": {},
     "output_type": "display_data"
    },
    {
     "data": {
      "application/javascript": [
       "if (typeof Jupyter !== \"undefined\") { window.__context = { glowscript_container: $(\"#glowscript\").removeAttr(\"id\")};}else{ element.textContent = ' ';}"
      ],
      "text/plain": [
       "<IPython.core.display.Javascript object>"
      ]
     },
     "metadata": {},
     "output_type": "display_data"
    }
   ],
   "source": [
    "scene = canvas()\n",
    "\n",
    "G = 6.67e-11\n",
    "m_sun = 2e30\n",
    "m_earth = 1e25\n",
    "R = 1.5e11\n",
    "\n",
    "sun = sphere(pos=vector(0,0,0), radius=R/20, color=color.yellow, make_trail=True)\n",
    "earth = sphere(pos=vector(R,0,0), radius=R/30, color=color.cyan, make_trail=True)\n",
    "\n",
    "v_earth = sqrt(G * m_sun / R)\n",
    "earth.p = m_earth * vector(0,-v_earth,0)\n",
    "w_earth = v_earth / R\n",
    "\n",
    "t = 0\n",
    "dt = 100\n",
    "\n",
    "l1 = R - R * (m_earth / (3 * m_sun))**0.34\n",
    "l2 = R + R * (m_earth / (3 * m_sun))**0.34\n",
    "ball1 = sphere(pos=vector(l1,0,0), radius=R/60, make_trail=True)\n",
    "ball2 = sphere(pos=vector(l2,0,0), radius=R/60, make_trail=True)\n",
    "ball1.m=1000\n",
    "ball2.m=1000\n",
    "# ball2_v = (G*m1/(r1+l2))**(0.5)\n",
    "ball1.p = ball1.m * vector(0,-w_earth * l1,0)\n",
    "ball2.p = ball2.m * vector(0,-w_earth * l2,0)\n",
    "# ball2.p = ball2.m*vector(0,-ball2_v,0)\n",
    "\n",
    "while t<38e6:\n",
    "    rate(15000)\n",
    "\n",
    "    # print(earth.p, ball1.p, ball2.p)\n",
    "\n",
    "    r = earth.pos - sun.pos\n",
    "\n",
    "    r1_sun = ball1.pos - sun.pos\n",
    "    r1_earth = ball1.pos - earth.pos\n",
    "\n",
    "    r2_sun = ball2.pos - sun.pos\n",
    "    r2_earth = ball2.pos - earth.pos\n",
    "  \n",
    "    F = -G * m_sun * m_earth * norm(r) / mag(r)**2\n",
    "\n",
    "    F1_sun = -G * m_sun * ball1.m * norm(r1_sun) / mag(r1_sun)**2\n",
    "    F1_earth = -G * m_earth * ball1.m * norm(r1_earth) / mag(r1_earth)**2\n",
    "\n",
    "    F2_sun = -G * m_sun * ball2.m * norm(r2_sun) / mag(r2_sun)**2\n",
    "    F2_earth = -G * m_earth * ball2.m * norm(r2_earth) / mag(r2_earth)**2\n",
    "    \n",
    "    ball1.p += (F1_sun + F1_earth) * dt\n",
    "    ball2.p += (F2_sun + F2_earth) * dt\n",
    "    earth.p += F * dt\n",
    "\n",
    "    ball1.pos += ball1.p * dt / ball1.m\n",
    "    ball2.pos += ball2.p * dt / ball2.m\n",
    "    earth.pos += earth.p * dt / m_earth\n",
    "        \n",
    "    t = t + dt"
   ]
  },
  {
   "cell_type": "markdown",
   "id": "0a25186f-9185-4c7e-9519-a5ae443c5a43",
   "metadata": {},
   "source": [
    "### L1 and L2 (exaggerated)"
   ]
  },
  {
   "cell_type": "code",
   "execution_count": 29,
   "id": "77688b7e-bae5-442a-9998-893597d0b14f",
   "metadata": {},
   "outputs": [
    {
     "data": {
      "text/html": [
       "<div id=\"glowscript\" class=\"glowscript\"></div>"
      ],
      "text/plain": [
       "<IPython.core.display.HTML object>"
      ]
     },
     "metadata": {},
     "output_type": "display_data"
    },
    {
     "data": {
      "application/javascript": [
       "if (typeof Jupyter !== \"undefined\") { window.__context = { glowscript_container: $(\"#glowscript\").removeAttr(\"id\")};}else{ element.textContent = ' ';}"
      ],
      "text/plain": [
       "<IPython.core.display.Javascript object>"
      ]
     },
     "metadata": {},
     "output_type": "display_data"
    }
   ],
   "source": [
    "scene = canvas()\n",
    "\n",
    "G = 6.67e-11\n",
    "m_sun = 2e30\n",
    "m_earth = 1e25\n",
    "R = 1.5e11\n",
    "\n",
    "sun = sphere(pos=vector(0,0,0), radius=R/20, color=color.yellow, make_trail=False)\n",
    "earth = sphere(pos=vector(R,0,0), radius=R/30, color=color.cyan, make_trail=True)\n",
    "\n",
    "v_earth = sqrt(G * m_sun / R)\n",
    "earth.p = m_earth * vector(0,v_earth,0)\n",
    "w_earth = v_earth / R\n",
    "\n",
    "t = 0\n",
    "dt = 100\n",
    "\n",
    "l1 = 0.8 * R\n",
    "l2 = 1.2 * R\n",
    "ball1 = sphere(pos=vector(l1,0,0), radius=R/60, make_trail=False)\n",
    "ball2 = sphere(pos=vector(l2,0,0), radius=R/60, make_trail=False)\n",
    "ball1.m=1000\n",
    "ball2.m=1000\n",
    "# ball2_v = (G*m1/(r1+l2))**(0.5)\n",
    "ball1.p = ball1.m * vector(0,w_earth * l1,0)\n",
    "ball2.p = ball2.m * vector(0,w_earth * l2,0)\n",
    "# ball2.p = ball2.m*vector(0,-ball2_v,0)\n",
    "\n",
    "# label_earth = label(pos=earth.pos, text=\"Earth\", xoffset=10, yoffset=10, box=False, linecolor=color.black)\n",
    "label_ball1 = label(pos=ball1.pos, text=\"L1\", xoffset=-10, yoffset=0, box=False, linecolor=color.black, opacity=0)\n",
    "label_ball2 = label(pos=ball2.pos, text=\"L2\", xoffset=10, yoffset=0, box=False, linecolor=color.black)\n",
    "\n",
    "\n",
    "while t<32e6:\n",
    "    rate(15000)\n",
    "\n",
    "    r = earth.pos - sun.pos  \n",
    "    F = -G * m_sun * m_earth * norm(r) / mag(r)**2\n",
    "\n",
    "    earth.p += F * dt\n",
    "    ball1.p = earth.p / m_earth * ball1.m * 0.8\n",
    "    ball2.p = earth.p / m_earth * ball2.m * 1.2\n",
    "\n",
    "    ball1.pos += ball1.p * dt / ball1.m\n",
    "    ball2.pos += ball2.p * dt / ball2.m\n",
    "    earth.pos += earth.p * dt / m_earth\n",
    "\n",
    "    label_ball1.pos = ball1.pos\n",
    "    label_ball2.pos = ball2.pos\n",
    "    if t > 9e6 and t < 22e6:\n",
    "        label_ball1.visible = False\n",
    "        label_ball2.visible = False\n",
    "    else:\n",
    "        label_ball1.visible = True\n",
    "        label_ball2.visible = True\n",
    "        \n",
    "    t = t + dt"
   ]
  },
  {
   "cell_type": "markdown",
   "id": "7a4b3fe0-9d79-4e60-ba38-600f9587b072",
   "metadata": {},
   "source": [
    "### L3"
   ]
  },
  {
   "cell_type": "code",
   "execution_count": 26,
   "id": "75b37999-5c9f-42ba-8ef7-d806d14f86e4",
   "metadata": {},
   "outputs": [
    {
     "data": {
      "text/html": [
       "<div id=\"glowscript\" class=\"glowscript\"></div>"
      ],
      "text/plain": [
       "<IPython.core.display.HTML object>"
      ]
     },
     "metadata": {},
     "output_type": "display_data"
    },
    {
     "data": {
      "application/javascript": [
       "if (typeof Jupyter !== \"undefined\") { window.__context = { glowscript_container: $(\"#glowscript\").removeAttr(\"id\")};}else{ element.textContent = ' ';}"
      ],
      "text/plain": [
       "<IPython.core.display.Javascript object>"
      ]
     },
     "metadata": {},
     "output_type": "display_data"
    }
   ],
   "source": [
    "scene = canvas()\n",
    "\n",
    "G = 6.67e-11\n",
    "m1 = 2e30\n",
    "m2 = 1e25\n",
    "R = 1.5e11\n",
    "\n",
    "r1 = m2*R/(m1+m2)\n",
    "r2 = m1*R/(m1+m2)\n",
    "\n",
    "v1 = sqrt(G*m2*r1/R**2)\n",
    "v2 = sqrt(G*m1*r2/R**2)\n",
    "w = v2/r2\n",
    "\n",
    "star1=sphere(pos=vector(-r1,0,0), radius=R/20, color=color.yellow, make_trail=True)\n",
    "star2=sphere(pos=vector(r2,0,0), radius=R/30, color=color.cyan, make_trail=True)\n",
    "star1.p = m1*vector(0,v1,0)\n",
    "star2.p = m2*vector(0,-v2,0)\n",
    "\n",
    "t = 0\n",
    "dt = 500\n",
    "\n",
    "\n",
    "l2 = r2 + R * (m2/(3*m1))**0.34\n",
    "ball2 = sphere(pos=vector(l2,0,0), radius=R/60, make_trail=True)\n",
    "ball2.m=1000\n",
    "# ball2_v = (G*m1/(r1+l2))**(0.5)\n",
    "ball2.p = ball2.m*vector(0,-w*l2,0)\n",
    "# ball2.p = ball2.m*vector(0,-ball2_v,0)\n",
    "\n",
    "\n",
    "l3 = -2*r1 - r2\n",
    "ball3 = sphere(pos=vector(l3,0,0), radius=R/60, make_trail=True)\n",
    "ball3.m=1000\n",
    "ball3.p = ball3.m*vector(0,-w*ball3.pos.x,0)\n",
    "\n",
    "\n",
    "\n",
    "while t<33e6:\n",
    "  rate(15000)\n",
    "  \n",
    "  r = star2.pos - star1.pos\n",
    "  \n",
    "  r21 = ball2.pos-star1.pos\n",
    "  r22 = ball2.pos-star2.pos\n",
    "  \n",
    "  r31 = ball3.pos-star1.pos\n",
    "  r32 = ball3.pos-star2.pos\n",
    "  \n",
    "  F = -G*m1*m2*norm(r)/mag(r)**2\n",
    "  \n",
    "  F21 = -G*m1*ball2.m*norm(r21)/mag(r21)**2\n",
    "  F22 = -G*m2*ball2.m*norm(r22)/mag(r22)**2\n",
    "  \n",
    "  F31 = -G*m1*ball3.m*norm(r31)/mag(r31)**2\n",
    "  F32 = -G*m2*ball3.m*norm(r32)/mag(r32)**2\n",
    "\n",
    "  ball2.p = ball2.p + (F21+F22)*dt\n",
    "  ball3.p = ball3.p + (F31+F32)*dt\n",
    "  \n",
    "  star2.p = star2.p + F*dt\n",
    "  star1.p = star1.p - F*dt\n",
    "  \n",
    "  ball2.pos = ball2.pos + ball2.p*dt/ball2.m\n",
    "  ball3.pos = ball3.pos + ball3.p*dt/ball3.m\n",
    "  \n",
    "  star1.pos = star1.pos + star1.p*dt/m1\n",
    "  star2.pos = star2.pos + star2.p*dt/m2\n",
    "  \n",
    "  t = t + dt"
   ]
  },
  {
   "cell_type": "markdown",
   "id": "9400e430-70ee-47ba-94fc-fa922eb8fd66",
   "metadata": {},
   "source": [
    "### New heading"
   ]
  },
  {
   "cell_type": "code",
   "execution_count": null,
   "id": "91857f0e-b3cc-4c08-affb-5d271ff85ab7",
   "metadata": {},
   "outputs": [],
   "source": []
  },
  {
   "cell_type": "code",
   "execution_count": null,
   "id": "d392f21c-6345-475b-a2f2-8e8eda5a2abb",
   "metadata": {},
   "outputs": [],
   "source": []
  }
 ],
 "metadata": {
  "kernelspec": {
   "display_name": "vpython",
   "language": "python",
   "name": "vpython"
  },
  "language_info": {
   "codemirror_mode": {
    "name": "ipython",
    "version": 3
   },
   "file_extension": ".py",
   "mimetype": "text/x-python",
   "name": "python",
   "nbconvert_exporter": "python",
   "pygments_lexer": "ipython3",
   "version": "3.9.7"
  }
 },
 "nbformat": 4,
 "nbformat_minor": 5
}
